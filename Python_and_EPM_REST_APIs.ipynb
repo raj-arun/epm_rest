{
  "nbformat": 4,
  "nbformat_minor": 0,
  "metadata": {
    "colab": {
      "name": "Add Member in EPM",
      "provenance": [],
      "collapsed_sections": [],
      "toc_visible": true,
      "authorship_tag": "ABX9TyOKAEyZ6NUvK/JYcW4xgl5Z",
      "include_colab_link": true
    },
    "kernelspec": {
      "name": "python3",
      "display_name": "Python 3"
    },
    "language_info": {
      "name": "python"
    }
  },
  "cells": [
    {
      "cell_type": "markdown",
      "metadata": {
        "id": "view-in-github",
        "colab_type": "text"
      },
      "source": [
        "<a href=\"https://colab.research.google.com/github/raj-arun/epm_rest/blob/main/Python_and_EPM_REST_APIs.ipynb\" target=\"_parent\"><img src=\"https://colab.research.google.com/assets/colab-badge.svg\" alt=\"Open In Colab\"/></a>"
      ]
    },
    {
      "cell_type": "markdown",
      "metadata": {
        "id": "S8F-RYVLtUul"
      },
      "source": [
        "**Add the packages needed for the program**\n",
        "More details on requests library can be found [here](https://docs.python-requests.org/en/master/)"
      ]
    },
    {
      "cell_type": "code",
      "metadata": {
        "id": "czv_rr0R5OMl"
      },
      "source": [
        "import requests\n",
        "import json\n",
        "from requests.auth import HTTPBasicAuth"
      ],
      "execution_count": 1,
      "outputs": []
    },
    {
      "cell_type": "code",
      "metadata": {
        "id": "vrITNBxF5dfn"
      },
      "source": [
        "# read the data file containing login information\n",
        "logindata = {}\n",
        "with open('instanceDetails.json') as f:\n",
        "   logindata = json.load(f)"
      ],
      "execution_count": 17,
      "outputs": []
    },
    {
      "cell_type": "code",
      "metadata": {
        "id": "V8XbBPWM6BQs"
      },
      "source": [
        "# variables to pass login information while invoking the REST API\n",
        "uName = logindata[\"user\"]\n",
        "passwd = logindata[\"pwd\"]\n",
        "epmUrl = logindata[\"instance\"]\n",
        "\n",
        "# variables to hold version information and app name\n",
        "apiVersion = \"\"\n",
        "appName = \"\""
      ],
      "execution_count": 18,
      "outputs": []
    },
    {
      "cell_type": "code",
      "metadata": {
        "id": "6_urUt5A6En3"
      },
      "source": [
        "# construct api end point and assign request headers\n",
        "requestURL = epmUrl + \"/HyperionPlanning/rest/\"\n",
        "\n",
        "reqHeaders = {}\n",
        "reqHeaders['Content-Type'] = 'application/json'"
      ],
      "execution_count": 19,
      "outputs": []
    },
    {
      "cell_type": "code",
      "metadata": {
        "id": "85TKjexE6Iu_",
        "colab": {
          "base_uri": "https://localhost:8080/"
        },
        "outputId": "6d3732ae-770f-47ab-f9e6-ca4012d84899"
      },
      "source": [
        "# invoke the rest api, check response\n",
        "reqResponse = requests.get(requestURL, auth=HTTPBasicAuth(uName, passwd), headers=reqHeaders)\n",
        "\n",
        "if reqResponse.status_code == 200:\n",
        "    versionData = json.loads(reqResponse.text)\n",
        "    print(json.dumps(versionData, indent=4, sort_keys=True))\n",
        "else:\n",
        "    print(reqResponse.status_code)"
      ],
      "execution_count": 20,
      "outputs": [
        {
          "output_type": "stream",
          "text": [
            "{\n",
            "    \"items\": [\n",
            "        {\n",
            "            \"isLatest\": false,\n",
            "            \"lifecycle\": \"deprecated\",\n",
            "            \"links\": [\n",
            "                {\n",
            "                    \"href\": \"https://epm-25859-plan.hap.iad.demoservices003.oraclepdemos.com:443/HyperionPlanning/rest/v1\",\n",
            "                    \"rel\": \"canonical\"\n",
            "                },\n",
            "                {\n",
            "                    \"href\": \"https://epm-25859-plan.hap.iad.demoservices003.oraclepdemos.com:443/HyperionPlanning/rest/v2\",\n",
            "                    \"rel\": \"successor-version\"\n",
            "                }\n",
            "            ],\n",
            "            \"version\": \"v1\"\n",
            "        },\n",
            "        {\n",
            "            \"isLatest\": false,\n",
            "            \"lifecycle\": \"deprecated\",\n",
            "            \"links\": [\n",
            "                {\n",
            "                    \"href\": \"https://epm-25859-plan.hap.iad.demoservices003.oraclepdemos.com:443/HyperionPlanning/rest/v2\",\n",
            "                    \"rel\": \"canonical\"\n",
            "                },\n",
            "                {\n",
            "                    \"href\": \"https://epm-25859-plan.hap.iad.demoservices003.oraclepdemos.com:443/HyperionPlanning/rest/v1\",\n",
            "                    \"rel\": \"predecessor-version\"\n",
            "                },\n",
            "                {\n",
            "                    \"href\": \"https://epm-25859-plan.hap.iad.demoservices003.oraclepdemos.com:443/HyperionPlanning/rest/v3\",\n",
            "                    \"rel\": \"successor-version\"\n",
            "                }\n",
            "            ],\n",
            "            \"version\": \"v2\"\n",
            "        },\n",
            "        {\n",
            "            \"isLatest\": true,\n",
            "            \"lifecycle\": \"active\",\n",
            "            \"links\": [\n",
            "                {\n",
            "                    \"href\": \"https://epm-25859-plan.hap.iad.demoservices003.oraclepdemos.com:443/HyperionPlanning/rest/v3\",\n",
            "                    \"rel\": \"canonical\"\n",
            "                },\n",
            "                {\n",
            "                    \"href\": \"https://epm-25859-plan.hap.iad.demoservices003.oraclepdemos.com:443/HyperionPlanning/rest/v2\",\n",
            "                    \"rel\": \"predecessor-version\"\n",
            "                }\n",
            "            ],\n",
            "            \"version\": \"v3\"\n",
            "        }\n",
            "    ],\n",
            "    \"links\": [\n",
            "        {\n",
            "            \"href\": \"https://epm-25859-plan.hap.iad.demoservices003.oraclepdemos.com:443/HyperionPlanning/rest/\",\n",
            "            \"rel\": \"self\"\n",
            "        },\n",
            "        {\n",
            "            \"href\": \"https://epm-25859-plan.hap.iad.demoservices003.oraclepdemos.com:443/HyperionPlanning/rest/\",\n",
            "            \"rel\": \"canonical\"\n",
            "        },\n",
            "        {\n",
            "            \"href\": \"https://epm-25859-plan.hap.iad.demoservices003.oraclepdemos.com:443/HyperionPlanning/rest/v3\",\n",
            "            \"rel\": \"current\"\n",
            "        }\n",
            "    ]\n",
            "}\n"
          ],
          "name": "stdout"
        }
      ]
    },
    {
      "cell_type": "code",
      "metadata": {
        "colab": {
          "base_uri": "https://localhost:8080/"
        },
        "id": "TslbT2Lz6Oq4",
        "outputId": "f25c99e4-77f7-4e95-e3c6-32aa98b861d2"
      },
      "source": [
        "# loop through the response and get the version information\n",
        "for i in versionData[\"items\"]:\n",
        "    if(i[\"isLatest\"]):\n",
        "        apiVersion = i[\"version\"]\n",
        "        \n",
        "print(\"API Version is {}\".format(apiVersion))"
      ],
      "execution_count": 21,
      "outputs": [
        {
          "output_type": "stream",
          "text": [
            "API Version is v3\n"
          ],
          "name": "stdout"
        }
      ]
    },
    {
      "cell_type": "code",
      "metadata": {
        "colab": {
          "base_uri": "https://localhost:8080/"
        },
        "id": "BdL2Cmv56R0b",
        "outputId": "e576afab-27a2-4cc2-8afd-df89811fc6e2"
      },
      "source": [
        "# construct api end point, invoke the rest api, check response\n",
        "appURL = epmUrl + \"/HyperionPlanning/rest/\"+apiVersion+\"/applications\"\n",
        "reqResponse = requests.get(appURL, auth=HTTPBasicAuth( uName, passwd), headers=reqHeaders)\n",
        "\n",
        "if reqResponse.status_code == 200:\n",
        "    appData = json.loads(reqResponse.text)\n",
        "    print(json.dumps(appData, indent=4, sort_keys=True))\n",
        "else:\n",
        "    print(\"Error invoking REST API. Error Code: {1}\".format(reqResponse.status_code))"
      ],
      "execution_count": 22,
      "outputs": [
        {
          "output_type": "stream",
          "text": [
            "{\n",
            "    \"items\": [\n",
            "        {\n",
            "            \"adminMode\": false,\n",
            "            \"appStorage\": \"Multidim\",\n",
            "            \"appType\": \"EPBCS\",\n",
            "            \"dpEnabled\": false,\n",
            "            \"helpServerUrl\": \"https://www.oracle.com\",\n",
            "            \"name\": \"HEALTH\",\n",
            "            \"type\": \"HP\",\n",
            "            \"unicode\": true,\n",
            "            \"workpaceServerUrl\": \"https://epm-25859-plan.hap.iad.demoservices003.oraclepdemos.com:443\"\n",
            "        }\n",
            "    ],\n",
            "    \"links\": [\n",
            "        {\n",
            "            \"action\": \"GET\",\n",
            "            \"href\": \"https://epm-25859-plan.hap.iad.demoservices003.oraclepdemos.com:443/HyperionPlanning/rest/v3/applications\",\n",
            "            \"rel\": \"self\"\n",
            "        }\n",
            "    ],\n",
            "    \"type\": \"HP\"\n",
            "}\n"
          ],
          "name": "stdout"
        }
      ]
    },
    {
      "cell_type": "code",
      "metadata": {
        "colab": {
          "base_uri": "https://localhost:8080/"
        },
        "id": "lb8-nwGA6Wbi",
        "outputId": "330e63fd-1b28-408d-fea7-be9356220e4c"
      },
      "source": [
        "# loop through the response and get the version information\n",
        "for i in appData[\"items\"]:\n",
        "    appName = i[\"name\"]\n",
        "    \n",
        "print(\"App Name is {}\".format(appName))"
      ],
      "execution_count": 23,
      "outputs": [
        {
          "output_type": "stream",
          "text": [
            "App Name is HEALTH\n"
          ],
          "name": "stdout"
        }
      ]
    },
    {
      "cell_type": "code",
      "metadata": {
        "colab": {
          "base_uri": "https://localhost:8080/"
        },
        "id": "VopPX5Ke6YHI",
        "outputId": "20f727f4-ff69-4c2e-d3b3-e2927a1aecca"
      },
      "source": [
        "dimURL = appURL + \"/\"+ appName + \"/dimensions/Account/members\"\n",
        "print(dimURL)\n",
        "payload = json.dumps({\"memberName\":\"100036\",\"parentName\":\"100010\"})\n",
        "reqResponse = requests.post(dimURL, auth=HTTPBasicAuth( uName, passwd), headers=reqHeaders,data=payload)\n",
        "\n",
        "if reqResponse.status_code == 200 or reqResponse.status_code == 201:\n",
        "    appData = json.loads(reqResponse.text)\n",
        "    print(json.dumps(appData, indent=4, sort_keys=True))\n",
        "else:\n",
        "    #print(\"Error invoking REST API. Error Code: {1}\".format(reqResponse.status_code))\n",
        "    print(reqResponse.text)"
      ],
      "execution_count": null,
      "outputs": [
        {
          "output_type": "stream",
          "text": [
            "https://epm-25859-plan.hap.iad.demoservices003.oraclepdemos.com/HyperionPlanning/rest/v3/applications/HEALTH/dimensions/Account/members\n",
            "{\n",
            "    \"dataStorage\": \"Store Data\",\n",
            "    \"dataType\": \"Currency\",\n",
            "    \"dimName\": \"Account\",\n",
            "    \"id\": \"36056910-50c9-49c3-8184-380efbbead57\",\n",
            "    \"links\": [\n",
            "        {\n",
            "            \"action\": \"GET\",\n",
            "            \"href\": \"https://epm-25859-plan.hap.iad.demoservices003.oraclepdemos.com:443/HyperionPlanning/rest/v3/applications/HEALTH/dimensions/Account/members/100036\",\n",
            "            \"rel\": \"self\"\n",
            "        }\n",
            "    ],\n",
            "    \"name\": \"100036\",\n",
            "    \"objectType\": 32,\n",
            "    \"parentName\": \"100010\",\n",
            "    \"twoPass\": false,\n",
            "    \"usedIn\": [\n",
            "        \"OEP_FS\"\n",
            "    ]\n",
            "}\n"
          ],
          "name": "stdout"
        }
      ]
    },
    {
      "cell_type": "code",
      "metadata": {
        "colab": {
          "base_uri": "https://localhost:8080/"
        },
        "id": "nq5SI75Nq6H4",
        "outputId": "b39cd2fd-afd0-418c-c799-921daa4766ee"
      },
      "source": [
        "#submit job\n",
        "jobURL = appURL + \"/\"+ appName + '/jobs'\n",
        "print(jobURL)\n",
        "payload = json.dumps({\"jobType\":\"Cube Refresh\",\"jobName\":\"Refresh Database\"})\n",
        "reqResponse = requests.post(jobURL, auth=HTTPBasicAuth( uName, passwd), headers=reqHeaders,data=payload)\n",
        "\n",
        "if reqResponse.status_code == 200 or reqResponse.status_code == 201:\n",
        "    appData = json.loads(reqResponse.text)\n",
        "    print(json.dumps(appData, indent=4, sort_keys=True))\n",
        "else:\n",
        "    #print(\"Error invoking REST API. Error Code: {1}\".format(reqResponse.status_code))\n",
        "    print(reqResponse.text)"
      ],
      "execution_count": 25,
      "outputs": [
        {
          "output_type": "stream",
          "text": [
            "https://epm-25859-plan.hap.iad.demoservices003.oraclepdemos.com/HyperionPlanning/rest/v3/applications/HEALTH/jobs\n",
            "{\n",
            "    \"descriptiveStatus\": \"Processing\",\n",
            "    \"details\": null,\n",
            "    \"jobId\": 40,\n",
            "    \"jobName\": \"Refresh Database\",\n",
            "    \"links\": [\n",
            "        {\n",
            "            \"action\": \"GET\",\n",
            "            \"href\": \"https://epm-25859-plan.hap.iad.demoservices003.oraclepdemos.com:443/HyperionPlanning/rest/v3/applications/HEALTH/jobs/40\",\n",
            "            \"rel\": \"self\"\n",
            "        },\n",
            "        {\n",
            "            \"action\": \"GET\",\n",
            "            \"href\": \"https://epm-25859-plan.hap.iad.demoservices003.oraclepdemos.com:443/HyperionPlanning/rest/v3/applications/HEALTH/jobs/40/details\",\n",
            "            \"rel\": \"job-details\"\n",
            "        }\n",
            "    ],\n",
            "    \"status\": -1\n",
            "}\n"
          ],
          "name": "stdout"
        }
      ]
    },
    {
      "cell_type": "code",
      "metadata": {
        "colab": {
          "base_uri": "https://localhost:8080/"
        },
        "id": "L-DL74uAsYqO",
        "outputId": "2945b8b0-99c2-4528-a8a6-d776487bb761"
      },
      "source": [
        "# job details\n",
        "# loop through the response and get the version information\n",
        "for i in appData[\"links\"]:\n",
        "    if (i[\"rel\"] == \"self\"):\n",
        "      jobDetailsURL = i[\"href\"]\n",
        "    \n",
        "print(\"Job Details URL {}\".format(jobDetailsURL))\n",
        "\n",
        "reqResponse = requests.get(jobDetailsURL, auth=HTTPBasicAuth( uName, passwd), headers=reqHeaders)\n",
        "\n",
        "if reqResponse.status_code == 200 or reqResponse.status_code == 201:\n",
        "    appData = json.loads(reqResponse.text)\n",
        "    print(json.dumps(appData, indent=4, sort_keys=True))\n",
        "else:\n",
        "    #print(\"Error invoking REST API. Error Code: {1}\".format(reqResponse.status_code))\n",
        "    print(reqResponse.text)"
      ],
      "execution_count": 29,
      "outputs": [
        {
          "output_type": "stream",
          "text": [
            "Job Details URL https://epm-25859-plan.hap.iad.demoservices003.oraclepdemos.com:443/HyperionPlanning/rest/v3/applications/HEALTH/jobs/40\n",
            "{\n",
            "    \"descriptiveStatus\": \"Completed\",\n",
            "    \"details\": \"Refresh Complete.\",\n",
            "    \"jobId\": 40,\n",
            "    \"jobName\": \"Refresh Database\",\n",
            "    \"links\": [\n",
            "        {\n",
            "            \"action\": \"GET\",\n",
            "            \"href\": \"https://epm-25859-plan.hap.iad.demoservices003.oraclepdemos.com:443/HyperionPlanning/rest/v3/applications/HEALTH/jobs/40\",\n",
            "            \"rel\": \"self\"\n",
            "        },\n",
            "        {\n",
            "            \"action\": \"GET\",\n",
            "            \"href\": \"https://epm-25859-plan.hap.iad.demoservices003.oraclepdemos.com:443/HyperionPlanning/rest/v3/applications/HEALTH/jobs/40/details\",\n",
            "            \"rel\": \"job-details\"\n",
            "        }\n",
            "    ],\n",
            "    \"status\": 0\n",
            "}\n"
          ],
          "name": "stdout"
        }
      ]
    },
    {
      "cell_type": "code",
      "metadata": {
        "colab": {
          "base_uri": "https://localhost:8080/"
        },
        "id": "sgwNoDTknBm2",
        "outputId": "41c3d764-6c4c-45b3-c07f-f5dbdfedfba2"
      },
      "source": [
        "#sendmail\n",
        "reqHeaders = {}\n",
        "reqHeaders['Content-Type'] = 'application/x-www-form-urlencoded'\n",
        "migration_api_version = \"v1\"\n",
        "\n",
        "# construct api end point and assign request headers\n",
        "migrationURL = epmUrl + \"/interop/rest/\"+migration_api_version+\"/services/sendmail\"\n",
        "print(migrationURL)\n",
        "\n",
        "payload = 'to=s.arun.raj%40gmail.com&subject=Email%20from%20REST%20API&body=some%20body%20test'\n",
        "reqResponse = requests.post(migrationURL, auth=HTTPBasicAuth( uName, passwd), headers=reqHeaders,data=payload)\n",
        "\n",
        "if reqResponse.status_code == 200 or reqResponse.status_code == 201:\n",
        "    appData = json.loads(reqResponse.text)\n",
        "    print(json.dumps(appData, indent=4, sort_keys=True))\n",
        "else:\n",
        "    print(reqResponse.text)"
      ],
      "execution_count": 8,
      "outputs": [
        {
          "output_type": "stream",
          "text": [
            "https://epm-25859-plan.hap.iad.demoservices003.oraclepdemos.com/interop/rest/v1/services/sendmail\n",
            "{\n",
            "    \"details\": null,\n",
            "    \"items\": null,\n",
            "    \"links\": [\n",
            "        {\n",
            "            \"action\": \"POST\",\n",
            "            \"data\": null,\n",
            "            \"href\": \"https://epm-25859-plan.hap.iad.demoservices003.oraclepdemos.com:443/interop/rest/v1/services/sendmail\",\n",
            "            \"rel\": \"self\"\n",
            "        },\n",
            "        {\n",
            "            \"action\": \"GET\",\n",
            "            \"data\": null,\n",
            "            \"href\": \"https://epm-25859-plan.hap.iad.demoservices003.oraclepdemos.com:443/interop/rest/v1/services/jobs/29147261294110600\",\n",
            "            \"rel\": \"Job Status\"\n",
            "        }\n",
            "    ],\n",
            "    \"status\": -1\n",
            "}\n"
          ],
          "name": "stdout"
        }
      ]
    },
    {
      "cell_type": "code",
      "metadata": {
        "colab": {
          "base_uri": "https://localhost:8080/"
        },
        "id": "uNfMpiQDvU7D",
        "outputId": "96450de1-c152-4aee-c28e-518e1ab9f0c3"
      },
      "source": [
        "#deletefile\n",
        "reqHeaders = {}\n",
        "reqHeaders['Content-Type'] = 'application/json'\n",
        "migration_api_version = \"11.1.2.3.600\"\n",
        "fileName = \"account_metadata.csv\"\n",
        "# construct api end point and assign request headers\n",
        "deleteFileURL = epmUrl + \"/interop/rest/\"+migration_api_version+\"/applicationsnapshots/\"+fileName\n",
        "print(migrationURL)\n",
        "\n",
        "reqResponse = requests.delete(deleteFileURL, auth=HTTPBasicAuth( uName, passwd), headers=reqHeaders)\n",
        "\n",
        "if reqResponse.status_code == 200 or reqResponse.status_code == 201:\n",
        "    appData = json.loads(reqResponse.text)\n",
        "    print(json.dumps(appData, indent=4, sort_keys=True))\n",
        "else:\n",
        "    print(reqResponse.text)"
      ],
      "execution_count": 30,
      "outputs": [
        {
          "output_type": "stream",
          "text": [
            "https://epm-25859-plan.hap.iad.demoservices003.oraclepdemos.com/interop/rest/v1/services/sendmail\n",
            "{\n",
            "    \"details\": null,\n",
            "    \"links\": [\n",
            "        {\n",
            "            \"action\": \"DELETE\",\n",
            "            \"data\": null,\n",
            "            \"href\": \"https://epm-25859-plan.hap.iad.demoservices003.oraclepdemos.com:443/interop/rest/11.1.2.3.600/applicationsnapshots/account_metadata.csv\",\n",
            "            \"rel\": \"self\"\n",
            "        }\n",
            "    ],\n",
            "    \"status\": 0\n",
            "}\n"
          ],
          "name": "stdout"
        }
      ]
    }
  ]
}