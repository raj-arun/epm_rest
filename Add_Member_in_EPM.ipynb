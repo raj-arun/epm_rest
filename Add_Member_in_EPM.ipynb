{
  "nbformat": 4,
  "nbformat_minor": 0,
  "metadata": {
    "colab": {
      "name": "Add Member in EPM",
      "provenance": [],
      "collapsed_sections": [],
      "authorship_tag": "ABX9TyPo3Zq8mmJbMw5rsaACv7+5",
      "include_colab_link": true
    },
    "kernelspec": {
      "name": "python3",
      "display_name": "Python 3"
    },
    "language_info": {
      "name": "python"
    }
  },
  "cells": [
    {
      "cell_type": "markdown",
      "metadata": {
        "id": "view-in-github",
        "colab_type": "text"
      },
      "source": [
        "<a href=\"https://colab.research.google.com/github/raj-arun/epm_rest/blob/main/Add_Member_in_EPM.ipynb\" target=\"_parent\"><img src=\"https://colab.research.google.com/assets/colab-badge.svg\" alt=\"Open In Colab\"/></a>"
      ]
    },
    {
      "cell_type": "markdown",
      "metadata": {
        "id": "S8F-RYVLtUul"
      },
      "source": [
        "**Add the packages needed for the program**\n",
        "More details on requests library can be found [here](https://docs.python-requests.org/en/master/)"
      ]
    },
    {
      "cell_type": "code",
      "metadata": {
        "id": "czv_rr0R5OMl"
      },
      "source": [
        "import requests\n",
        "import json\n",
        "from requests.auth import HTTPBasicAuth"
      ],
      "execution_count": 1,
      "outputs": []
    },
    {
      "cell_type": "markdown",
      "metadata": {
        "id": "HcF6FSD2CEOx"
      },
      "source": [
        "\n",
        "\n",
        "---\n",
        "\n",
        "\n",
        "Read the json file.\n",
        "\n",
        "---\n",
        "\n"
      ]
    },
    {
      "cell_type": "code",
      "metadata": {
        "id": "vrITNBxF5dfn"
      },
      "source": [
        "# read the data file containing login information\n",
        "logindata = {}\n",
        "with open('instanceDetails.json') as f:\n",
        "   logindata = json.load(f)"
      ],
      "execution_count": 2,
      "outputs": []
    },
    {
      "cell_type": "markdown",
      "metadata": {
        "id": "ZBAUzC07CN1R"
      },
      "source": [
        "\n",
        "\n",
        "---\n",
        "\n",
        "\n",
        "Get the user name, url and password from the file\n",
        "\n",
        "\n",
        "---\n",
        "\n"
      ]
    },
    {
      "cell_type": "code",
      "metadata": {
        "id": "V8XbBPWM6BQs"
      },
      "source": [
        "# variables to pass login information while invoking the REST API\n",
        "uName = logindata[\"user\"]\n",
        "passwd = logindata[\"pwd\"]\n",
        "epmUrl = logindata[\"instance\"]\n",
        "\n",
        "# variables to hold version information and app name\n",
        "apiVersion = \"\"\n",
        "appName = \"\""
      ],
      "execution_count": 3,
      "outputs": []
    },
    {
      "cell_type": "code",
      "metadata": {
        "id": "6_urUt5A6En3"
      },
      "source": [
        "# construct api end point and assign request headers\n",
        "requestURL = epmUrl + \"/HyperionPlanning/rest/\"\n",
        "\n",
        "reqHeaders = {}\n",
        "reqHeaders['Content-Type'] = 'application/json'"
      ],
      "execution_count": 4,
      "outputs": []
    },
    {
      "cell_type": "markdown",
      "metadata": {
        "id": "hwmoBzw8Drqx"
      },
      "source": [
        "---\n",
        "1.  [GET REST API](https://docs.oracle.com/en/cloud/saas/enterprise-performance-management-common/prest/get_rest_api_versions_for_planning.html) Versions API\n",
        "2.  GET Method\n",
        "3.  Retrieve the version information\n",
        "---"
      ]
    },
    {
      "cell_type": "code",
      "metadata": {
        "id": "85TKjexE6Iu_"
      },
      "source": [
        "# invoke the rest api, check response\n",
        "reqResponse = requests.get(requestURL, auth=HTTPBasicAuth(uName, passwd), headers=reqHeaders)\n",
        "\n",
        "if reqResponse.status_code == 200:\n",
        "    versionData = json.loads(reqResponse.text)\n",
        "    print(json.dumps(versionData, indent=4, sort_keys=True))\n",
        "else:\n",
        "    print(reqResponse.status_code)"
      ],
      "execution_count": null,
      "outputs": []
    },
    {
      "cell_type": "code",
      "metadata": {
        "colab": {
          "base_uri": "https://localhost:8080/"
        },
        "id": "TslbT2Lz6Oq4",
        "outputId": "9ca46288-f58d-457f-902c-502e07221339"
      },
      "source": [
        "# loop through the response and get the version information\n",
        "for i in versionData[\"items\"]:\n",
        "    if(i[\"isLatest\"]):\n",
        "        apiVersion = i[\"version\"]\n",
        "        \n",
        "print(\"API Version is {}\".format(apiVersion))"
      ],
      "execution_count": 6,
      "outputs": [
        {
          "output_type": "stream",
          "text": [
            "API Version is v3\n"
          ],
          "name": "stdout"
        }
      ]
    },
    {
      "cell_type": "markdown",
      "metadata": {
        "id": "EcNwzej-G5Eh"
      },
      "source": [
        "---\n",
        "1.  [GET Application Details](https://docs.oracle.com/en/cloud/saas/enterprise-performance-management-common/prest/get_applications.html) API\n",
        "2.  GET Method\n",
        "3.  Retrieve the application name, type etc\n",
        "---"
      ]
    },
    {
      "cell_type": "code",
      "metadata": {
        "id": "BdL2Cmv56R0b"
      },
      "source": [
        "# construct api end point, invoke the rest api, check response\n",
        "appURL = epmUrl + \"/HyperionPlanning/rest/\"+apiVersion+\"/applications\"\n",
        "reqResponse = requests.get(appURL, auth=HTTPBasicAuth( uName, passwd), headers=reqHeaders)\n",
        "\n",
        "if reqResponse.status_code == 200:\n",
        "    appData = json.loads(reqResponse.text)\n",
        "    print(json.dumps(appData, indent=4, sort_keys=True))\n",
        "else:\n",
        "    print(\"Error invoking REST API. Error Code: {1}\".format(reqResponse.status_code))"
      ],
      "execution_count": null,
      "outputs": []
    },
    {
      "cell_type": "code",
      "metadata": {
        "id": "lb8-nwGA6Wbi"
      },
      "source": [
        "# loop through the response and get the version information\n",
        "for i in appData[\"items\"]:\n",
        "    appName = i[\"name\"]\n",
        "    \n",
        "print(\"App Name is {}\".format(appName))"
      ],
      "execution_count": null,
      "outputs": []
    },
    {
      "cell_type": "markdown",
      "metadata": {
        "id": "TYnCs0_vHLi7"
      },
      "source": [
        "---\n",
        "1.  [Add Member](https://docs.oracle.com/en/cloud/saas/enterprise-performance-management-common/prest/add_member.html) API\n",
        "2.  POST Method\n",
        "3.  Limited set of attributes are available\n",
        "4.  The parent member must be enabled for dynamic children and a cube refresh must have happened after the parent was enabled.\n",
        "---"
      ]
    },
    {
      "cell_type": "code",
      "metadata": {
        "id": "VopPX5Ke6YHI"
      },
      "source": [
        "dimURL = appURL + \"/\"+ appName + \"/dimensions/Account/members\"\n",
        "print(dimURL)\n",
        "payload = json.dumps({\"memberName\":\"100099\",\"parentName\":\"100011\"})\n",
        "reqResponse = requests.post(dimURL, auth=HTTPBasicAuth( uName, passwd), headers=reqHeaders,data=payload)\n",
        "\n",
        "if reqResponse.status_code == 200 or reqResponse.status_code == 201:\n",
        "    appData = json.loads(reqResponse.text)\n",
        "    print(json.dumps(appData, indent=4, sort_keys=True))\n",
        "else:\n",
        "    #print(\"Error invoking REST API. Error Code: {1}\".format(reqResponse.status_code))\n",
        "    print(reqResponse.text)"
      ],
      "execution_count": null,
      "outputs": []
    },
    {
      "cell_type": "markdown",
      "metadata": {
        "id": "y9S2fCO3Hpu9"
      },
      "source": [
        "---\n",
        "1.  [Execute Job](https://docs.oracle.com/en/cloud/saas/enterprise-performance-management-common/prest/execute_a_job.html) API\n",
        "2.  POST Method\n",
        "3.  Import Data / Metadata, Rules, Cube Refresh and many more..\n",
        "---"
      ]
    },
    {
      "cell_type": "code",
      "metadata": {
        "id": "nq5SI75Nq6H4"
      },
      "source": [
        "#submit job\n",
        "jobURL = appURL + \"/\"+ appName + '/jobs'\n",
        "print(jobURL)\n",
        "payload = json.dumps({\"jobType\":\"Cube Refresh\",\"jobName\":\"Refresh Database\"})\n",
        "reqResponse = requests.post(jobURL, auth=HTTPBasicAuth( uName, passwd), headers=reqHeaders,data=payload)\n",
        "\n",
        "if reqResponse.status_code == 200 or reqResponse.status_code == 201:\n",
        "    appData = json.loads(reqResponse.text)\n",
        "    print(json.dumps(appData, indent=4, sort_keys=True))\n",
        "else:\n",
        "    #print(\"Error invoking REST API. Error Code: {1}\".format(reqResponse.status_code))\n",
        "    print(reqResponse.text)"
      ],
      "execution_count": null,
      "outputs": []
    },
    {
      "cell_type": "markdown",
      "metadata": {
        "id": "qGB5X6dAH-1_"
      },
      "source": [
        "---\n",
        "1.  [Get Job Status](https://docs.oracle.com/en/cloud/saas/enterprise-performance-management-common/prest/retrieve_job_status.html) API\n",
        "2.  GET Method\n",
        "3.  Job Identifier is needed\n",
        "---"
      ]
    },
    {
      "cell_type": "code",
      "metadata": {
        "id": "L-DL74uAsYqO"
      },
      "source": [
        "# job details\n",
        "# loop through the response and get the version information\n",
        "for i in appData[\"links\"]:\n",
        "    if (i[\"rel\"] == \"self\"):\n",
        "      jobDetailsURL = i[\"href\"]\n",
        "    \n",
        "print(\"Job Details URL {}\".format(jobDetailsURL))\n",
        "\n",
        "reqResponse = requests.get(jobDetailsURL, auth=HTTPBasicAuth( uName, passwd), headers=reqHeaders)\n",
        "\n",
        "if reqResponse.status_code == 200 or reqResponse.status_code == 201:\n",
        "    appData = json.loads(reqResponse.text)\n",
        "    print(json.dumps(appData, indent=4, sort_keys=True))\n",
        "else:\n",
        "    #print(\"Error invoking REST API. Error Code: {1}\".format(reqResponse.status_code))\n",
        "    print(reqResponse.text)"
      ],
      "execution_count": null,
      "outputs": []
    },
    {
      "cell_type": "markdown",
      "metadata": {
        "id": "-5DcEJspGAr9"
      },
      "source": [
        "---\n",
        "- [SendMail](https://docs.oracle.com/en/cloud/saas/enterprise-performance-management-common/prest/lcm_send_email.html) REST API\n",
        "- Content Type is application/x-www-form-urlencoded\n",
        "- POST Method\n",
        "- Attachements can be included\n",
        "---\n"
      ]
    },
    {
      "cell_type": "code",
      "metadata": {
        "id": "sgwNoDTknBm2"
      },
      "source": [
        "#sendmail\n",
        "reqHeaders = {}\n",
        "reqHeaders['Content-Type'] = 'application/x-www-form-urlencoded'\n",
        "migration_api_version = \"v1\"\n",
        "\n",
        "# construct api end point and assign request headers\n",
        "migrationURL = epmUrl + \"/interop/rest/\"+migration_api_version+\"/services/sendmail\"\n",
        "print(migrationURL)\n",
        "\n",
        "payload = 'to=s.arun.raj%40gmail.com&subject=Email%20from%20REST%20API&body=some%20body%20test'\n",
        "reqResponse = requests.post(migrationURL, auth=HTTPBasicAuth( uName, passwd), headers=reqHeaders,data=payload)\n",
        "\n",
        "if reqResponse.status_code == 200 or reqResponse.status_code == 201:\n",
        "    appData = json.loads(reqResponse.text)\n",
        "    print(json.dumps(appData, indent=4, sort_keys=True))\n",
        "else:\n",
        "    print(reqResponse.text)"
      ],
      "execution_count": null,
      "outputs": []
    },
    {
      "cell_type": "markdown",
      "metadata": {
        "id": "i0IAb44zFuEm"
      },
      "source": [
        "---\n",
        "- [Delete Files](https://docs.oracle.com/en/cloud/saas/enterprise-performance-management-common/prest/delete_files.html) REST API\n",
        "- Delete the file from EPM\n",
        "- DELETE method\n",
        "---"
      ]
    },
    {
      "cell_type": "code",
      "metadata": {
        "id": "uNfMpiQDvU7D"
      },
      "source": [
        "#deletefile\n",
        "reqHeaders = {}\n",
        "reqHeaders['Content-Type'] = 'application/json'\n",
        "migration_api_version = \"11.1.2.3.600\"\n",
        "fileName = \"account_metadata.csv\"\n",
        "# construct api end point and assign request headers\n",
        "deleteFileURL = epmUrl + \"/interop/rest/\"+migration_api_version+\"/applicationsnapshots/\"+fileName\n",
        "print(deleteFileURL)\n",
        "\n",
        "reqResponse = requests.delete(deleteFileURL, auth=HTTPBasicAuth( uName, passwd), headers=reqHeaders)\n",
        "\n",
        "if reqResponse.status_code == 200 or reqResponse.status_code == 201:\n",
        "    appData = json.loads(reqResponse.text)\n",
        "    print(json.dumps(appData, indent=4, sort_keys=True))\n",
        "else:\n",
        "    print(reqResponse.text)"
      ],
      "execution_count": null,
      "outputs": []
    },
    {
      "cell_type": "markdown",
      "metadata": {
        "id": "9k8wlNytFQcH"
      },
      "source": [
        "---\n",
        "- [List Files](https://colab.research.google.com/drive/1DYTrIxyoJc1snu8RHd-UpWbpbsLuvdN2#scrollTo=9k8wlNytFQcH&line=3&uniqifier=1) REST API\n",
        "- Loop through the files\n",
        "- Check for the file and get the file size\n",
        "- GET Method\n",
        "---"
      ]
    },
    {
      "cell_type": "code",
      "metadata": {
        "id": "tJuecKtNEr7y"
      },
      "source": [
        "def findFile(fileName):\n",
        "  reqHeaders = {}\n",
        "  reqHeaders['Content-Type'] = 'application/json'\n",
        "  migration_api_version = \"11.1.2.3.600\"\n",
        "  # construct api end point and assign request headers\n",
        "  listFileURL = epmUrl + \"/interop/rest/\"+migration_api_version+\"/applicationsnapshots\"\n",
        "  #print(listFileURL)\n",
        "\n",
        "  reqResponse = requests.get(listFileURL, auth=HTTPBasicAuth( uName, passwd), headers=reqHeaders)\n",
        "\n",
        "  if reqResponse.status_code == 200 or reqResponse.status_code == 201:\n",
        "      fileList = json.loads(reqResponse.text)\n",
        "      #print(json.dumps(fileList, indent=4, sort_keys=True))\n",
        "  else:\n",
        "      print(reqResponse.text)\n",
        "\n",
        "  for f in fileList[\"items\"]:\n",
        "    if f[\"name\"] == fileName:\n",
        "      print(\"Found file {}\".format(f[\"name\"]))\n",
        "      print(\"File size is {} bytes\".format(f[\"size\"]))\n"
      ],
      "execution_count": 7,
      "outputs": []
    },
    {
      "cell_type": "code",
      "metadata": {
        "colab": {
          "base_uri": "https://localhost:8080/"
        },
        "id": "2hU9U6hGFIPP",
        "outputId": "488e4849-81b0-4089-c4dd-d988e4a57541"
      },
      "source": [
        "findFile(\"Movements.csv\")"
      ],
      "execution_count": 8,
      "outputs": [
        {
          "output_type": "stream",
          "text": [
            "Found file Movements.csv\n",
            "File size is 18503 bytes\n"
          ],
          "name": "stdout"
        }
      ]
    }
  ]
}