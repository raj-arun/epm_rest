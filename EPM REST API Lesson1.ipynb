{
 "cells": [
  {
   "cell_type": "code",
   "execution_count": 1,
   "metadata": {},
   "outputs": [],
   "source": [
    "# libraries and packages required\n",
    "import requests\n",
    "import json\n",
    "from requests.auth import HTTPBasicAuth"
   ]
  },
  {
   "cell_type": "code",
   "execution_count": 3,
   "metadata": {},
   "outputs": [],
   "source": [
    "# read the data file containing login information\n",
    "logindata = {}\n",
    "with open('instanceDetails.json') as f:\n",
    "   logindata = json.load(f)"
   ]
  },
  {
   "cell_type": "code",
   "execution_count": 4,
   "metadata": {},
   "outputs": [],
   "source": [
    "# variables to pass login information while invoking the REST API\n",
    "uName = logindata[\"user\"]\n",
    "passwd = logindata[\"pwd\"]\n",
    "epmUrl = logindata[\"instance\"]\n",
    "\n",
    "# variables to hold version information and app name\n",
    "apiVersion = \"\"\n",
    "appName = \"\""
   ]
  },
  {
   "cell_type": "code",
   "execution_count": 5,
   "metadata": {},
   "outputs": [],
   "source": [
    "# construct api end point and assign request headers\n",
    "requestURL = epmUrl + \"/HyperionPlanning/rest/\"\n",
    "\n",
    "reqHeaders = {}\n",
    "reqHeaders['Content-Type'] = 'application/json'"
   ]
  },
  {
   "cell_type": "code",
   "execution_count": 6,
   "metadata": {
    "scrolled": false
   },
   "outputs": [
    {
     "name": "stdout",
     "output_type": "stream",
     "text": [
      "{\n",
      "    \"items\": [\n",
      "        {\n",
      "            \"isLatest\": false,\n",
      "            \"lifecycle\": \"deprecated\",\n",
      "            \"links\": [\n",
      "                {\n",
      "                    \"href\": \"https://epm-25859-plan.hap.iad.demoservices003.oraclepdemos.com:443/HyperionPlanning/rest/v1\",\n",
      "                    \"rel\": \"canonical\"\n",
      "                },\n",
      "                {\n",
      "                    \"href\": \"https://epm-25859-plan.hap.iad.demoservices003.oraclepdemos.com:443/HyperionPlanning/rest/v2\",\n",
      "                    \"rel\": \"successor-version\"\n",
      "                }\n",
      "            ],\n",
      "            \"version\": \"v1\"\n",
      "        },\n",
      "        {\n",
      "            \"isLatest\": false,\n",
      "            \"lifecycle\": \"deprecated\",\n",
      "            \"links\": [\n",
      "                {\n",
      "                    \"href\": \"https://epm-25859-plan.hap.iad.demoservices003.oraclepdemos.com:443/HyperionPlanning/rest/v2\",\n",
      "                    \"rel\": \"canonical\"\n",
      "                },\n",
      "                {\n",
      "                    \"href\": \"https://epm-25859-plan.hap.iad.demoservices003.oraclepdemos.com:443/HyperionPlanning/rest/v1\",\n",
      "                    \"rel\": \"predecessor-version\"\n",
      "                },\n",
      "                {\n",
      "                    \"href\": \"https://epm-25859-plan.hap.iad.demoservices003.oraclepdemos.com:443/HyperionPlanning/rest/v3\",\n",
      "                    \"rel\": \"successor-version\"\n",
      "                }\n",
      "            ],\n",
      "            \"version\": \"v2\"\n",
      "        },\n",
      "        {\n",
      "            \"isLatest\": true,\n",
      "            \"lifecycle\": \"active\",\n",
      "            \"links\": [\n",
      "                {\n",
      "                    \"href\": \"https://epm-25859-plan.hap.iad.demoservices003.oraclepdemos.com:443/HyperionPlanning/rest/v3\",\n",
      "                    \"rel\": \"canonical\"\n",
      "                },\n",
      "                {\n",
      "                    \"href\": \"https://epm-25859-plan.hap.iad.demoservices003.oraclepdemos.com:443/HyperionPlanning/rest/v2\",\n",
      "                    \"rel\": \"predecessor-version\"\n",
      "                }\n",
      "            ],\n",
      "            \"version\": \"v3\"\n",
      "        }\n",
      "    ],\n",
      "    \"links\": [\n",
      "        {\n",
      "            \"href\": \"https://epm-25859-plan.hap.iad.demoservices003.oraclepdemos.com:443/HyperionPlanning/rest/\",\n",
      "            \"rel\": \"self\"\n",
      "        },\n",
      "        {\n",
      "            \"href\": \"https://epm-25859-plan.hap.iad.demoservices003.oraclepdemos.com:443/HyperionPlanning/rest/\",\n",
      "            \"rel\": \"canonical\"\n",
      "        },\n",
      "        {\n",
      "            \"href\": \"https://epm-25859-plan.hap.iad.demoservices003.oraclepdemos.com:443/HyperionPlanning/rest/v3\",\n",
      "            \"rel\": \"current\"\n",
      "        }\n",
      "    ]\n",
      "}\n"
     ]
    }
   ],
   "source": [
    "# invoke the rest api, check response\n",
    "reqResponse = requests.get(requestURL, auth=HTTPBasicAuth(uName, passwd), headers=reqHeaders)\n",
    "\n",
    "if reqResponse.status_code == 200:\n",
    "    versionData = json.loads(reqResponse.text)\n",
    "    print(json.dumps(versionData, indent=4, sort_keys=True))\n",
    "else:\n",
    "    print(reqResponse.status_code)\n",
    "    "
   ]
  },
  {
   "cell_type": "code",
   "execution_count": 7,
   "metadata": {},
   "outputs": [
    {
     "name": "stdout",
     "output_type": "stream",
     "text": [
      "API Version is v3\n"
     ]
    }
   ],
   "source": [
    "# loop through the response and get the version information\n",
    "for i in versionData[\"items\"]:\n",
    "    if(i[\"isLatest\"]):\n",
    "        apiVersion = i[\"version\"]\n",
    "        \n",
    "print(\"API Version is {}\".format(apiVersion))"
   ]
  },
  {
   "cell_type": "code",
   "execution_count": 8,
   "metadata": {},
   "outputs": [
    {
     "name": "stdout",
     "output_type": "stream",
     "text": [
      "{\n",
      "    \"items\": [\n",
      "        {\n",
      "            \"adminMode\": false,\n",
      "            \"appStorage\": \"Multidim\",\n",
      "            \"appType\": \"EPBCS\",\n",
      "            \"dpEnabled\": false,\n",
      "            \"helpServerUrl\": \"https://www.oracle.com\",\n",
      "            \"name\": \"BTEDU\",\n",
      "            \"type\": \"HP\",\n",
      "            \"unicode\": true,\n",
      "            \"webBotDetails\": \"null\",\n",
      "            \"workpaceServerUrl\": \"https://epm-25859-plan.hap.iad.demoservices003.oraclepdemos.com:443\"\n",
      "        }\n",
      "    ],\n",
      "    \"links\": [\n",
      "        {\n",
      "            \"action\": \"GET\",\n",
      "            \"href\": \"https://epm-25859-plan.hap.iad.demoservices003.oraclepdemos.com:443/HyperionPlanning/rest/v3/applications\",\n",
      "            \"rel\": \"self\"\n",
      "        }\n",
      "    ],\n",
      "    \"type\": \"HP\"\n",
      "}\n"
     ]
    }
   ],
   "source": [
    "# construct api end point, invoke the rest api, check response\n",
    "appURL = epmUrl + \"/HyperionPlanning/rest/\"+apiVersion+\"/applications\"\n",
    "reqResponse = requests.get(appURL, auth=HTTPBasicAuth( uName, passwd), headers=reqHeaders)\n",
    "\n",
    "if reqResponse.status_code == 200:\n",
    "    appData = json.loads(reqResponse.text)\n",
    "    print(json.dumps(appData, indent=4, sort_keys=True))\n",
    "else:\n",
    "    print(\"Error invoking REST API. Error Code: {1}\".format(reqResponse.status_code))"
   ]
  },
  {
   "cell_type": "code",
   "execution_count": 9,
   "metadata": {},
   "outputs": [
    {
     "name": "stdout",
     "output_type": "stream",
     "text": [
      "App Name is BTEDU\n"
     ]
    }
   ],
   "source": [
    "# loop through the response and get the version information\n",
    "for i in appData[\"items\"]:\n",
    "    appName = i[\"name\"]\n",
    "    \n",
    "print(\"App Name is {}\".format(appName))"
   ]
  }
 ],
 "metadata": {
  "kernelspec": {
   "display_name": "Python 3",
   "language": "python",
   "name": "python3"
  },
  "language_info": {
   "codemirror_mode": {
    "name": "ipython",
    "version": 3
   },
   "file_extension": ".py",
   "mimetype": "text/x-python",
   "name": "python",
   "nbconvert_exporter": "python",
   "pygments_lexer": "ipython3",
   "version": "3.7.6"
  }
 },
 "nbformat": 4,
 "nbformat_minor": 4
}
